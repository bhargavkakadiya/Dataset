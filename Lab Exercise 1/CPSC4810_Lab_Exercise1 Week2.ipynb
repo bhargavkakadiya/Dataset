{
 "cells": [
  {
   "cell_type": "markdown",
   "metadata": {},
   "source": [
    "## Q1 Write a Python class which has two methods get_String and print_String. get_String accept a string from the user and print_String print the string in upper case. "
   ]
  },
  {
   "cell_type": "code",
   "execution_count": 1,
   "metadata": {},
   "outputs": [],
   "source": [
    "class printupper():\n",
    "    \"\"\"class to print input istring in uppercase\"\"\"\n",
    "    \n",
    "    def __init__(self,str):\n",
    "        self.str = str\n",
    "    def get_String(self):\n",
    "        self.str = input()\n",
    "    def print_String(self):\n",
    "        print(self.str.upper())\n",
    "            \n",
    "    "
   ]
  },
  {
   "cell_type": "code",
   "execution_count": 2,
   "metadata": {},
   "outputs": [],
   "source": [
    "a = printupper('bk')"
   ]
  },
  {
   "cell_type": "code",
   "execution_count": 3,
   "metadata": {},
   "outputs": [
    {
     "name": "stdout",
     "output_type": "stream",
     "text": [
      "BK\n"
     ]
    }
   ],
   "source": [
    "a.print_String()"
   ]
  },
  {
   "cell_type": "markdown",
   "metadata": {},
   "source": [
    "### Q2 Write a Python Class to defining a bank account. The class will define the attributes of the BankAccount as follows:\n",
    "\n",
    "### Name of the account owner, account number and starting account balance.\n",
    "\n",
    "### The class will have 2 methods withdrawBalance and addBalance. withdrawBalance will reduce the balance in the account and addBalance will increase the balance in the account. It should be made sure that the balance does not fall below 0. If the person tries to withdraw an amount greater than his account balance, then the condition in the program should stop the person from overdrawing his account.\n",
    "\n",
    "\n",
    "### Now Instantiate a Class object by the name myAccount. While initializing the account make sure the Account owner's name and his initial account opening balance should be asked as an input from the user. Whereas the account number should be assigned ramdomly (use random function in Python).\n",
    "\n",
    "### Now also define a __str__(self) special method that will print out the attribute details of myAccount at each step.\n",
    "\n",
    "### Show the workin of the withdrawBalance and addBalance methods by withdrawing first 100 dollars from the account and then adding 100 dollars back again. The starting balance can be chosen as 90 dollars."
   ]
  },
  {
   "cell_type": "code",
   "execution_count": 15,
   "metadata": {},
   "outputs": [],
   "source": [
    "import random\n",
    "class bankaccount():\n",
    "    \"\"\"class to record bank information of customers\"\"\"\n",
    "    \n",
    "    def __init__(self):\n",
    "        self.name = input(\"Enter account owner's name\\n\")\n",
    "        self.accn = random.randint(50001,59999)\n",
    "        self.startingb = float(input('Enter the amount you would like to deposit while opening your account\\n'))\n",
    "        self.balance = self.startingb\n",
    "        \n",
    "    def __str__(self):\n",
    "        return \"Account Details\\n Name: %s, Accn No.: %d, Current Balamce: %s$\".format(self.name, self.accn, str(self.balance))\n",
    "        \n",
    "    def withdrawBalance(self):\n",
    "        withdrawamount = float(input(\"How much would you like to withdraw\\n\"))\n",
    "        if withdrawamount > self.balance:\n",
    "            print (\"Insufficient Balance, try again\\n\")\n",
    "        else:\n",
    "            self.balance = self.balance - withdrawamount\n",
    "            print (\"Withdraw Successful\\n\")\n",
    "        \n",
    "    def addBalance(self):\n",
    "        userinput = input(\"How much would you like to deposit\\n\") \n",
    "        self.balance = self.balance + float(userinput)\n",
    "        print (\"Deposit Successful\\n\")\n",
    "        "
   ]
  },
  {
   "cell_type": "code",
   "execution_count": 16,
   "metadata": {},
   "outputs": [
    {
     "name": "stdout",
     "output_type": "stream",
     "text": [
      "Enter account owner's name\n",
      "bk\n",
      "Enter the amount you would like to deposit while opening your account\n",
      "1000\n"
     ]
    }
   ],
   "source": [
    "myAccount = bankaccount()"
   ]
  },
  {
   "cell_type": "code",
   "execution_count": 17,
   "metadata": {},
   "outputs": [
    {
     "name": "stdout",
     "output_type": "stream",
     "text": [
      "How much would you like to withdraw\n",
      "20\n",
      "Withdraw Successful\n",
      "\n"
     ]
    }
   ],
   "source": [
    "myAccount.withdrawBalance()"
   ]
  },
  {
   "cell_type": "code",
   "execution_count": 14,
   "metadata": {},
   "outputs": [
    {
     "name": "stdout",
     "output_type": "stream",
     "text": [
      "How much would you like to deposit\n",
      "20\n",
      "Deposit Successful\n",
      "\n"
     ]
    }
   ],
   "source": [
    "myAccount.addBalance()"
   ]
  },
  {
   "cell_type": "code",
   "execution_count": 77,
   "metadata": {},
   "outputs": [
    {
     "data": {
      "text/plain": [
       "10000.0"
      ]
     },
     "execution_count": 77,
     "metadata": {},
     "output_type": "execute_result"
    }
   ],
   "source": [
    "myAccount.balance"
   ]
  },
  {
   "cell_type": "markdown",
   "metadata": {},
   "source": [
    "## Q3 Consider the sales data.xlsx excel file provided with this exercise and answer the following questions using python code.\n",
    "\n",
    "### 3.1 Write a Pandas program to create a Pivot table and find the total sale amount region wise, manager wise for manager 'Martha'.\n",
    "\n",
    "### 3.2 Write a Pandas program to create a Pivot table and find the region wise Television and Home Theater sold."
   ]
  },
  {
   "cell_type": "code",
   "execution_count": null,
   "metadata": {},
   "outputs": [],
   "source": []
  },
  {
   "cell_type": "code",
   "execution_count": null,
   "metadata": {},
   "outputs": [],
   "source": []
  },
  {
   "cell_type": "code",
   "execution_count": null,
   "metadata": {},
   "outputs": [],
   "source": []
  },
  {
   "cell_type": "code",
   "execution_count": null,
   "metadata": {},
   "outputs": [],
   "source": []
  },
  {
   "cell_type": "code",
   "execution_count": null,
   "metadata": {},
   "outputs": [],
   "source": []
  },
  {
   "cell_type": "code",
   "execution_count": null,
   "metadata": {},
   "outputs": [],
   "source": []
  },
  {
   "cell_type": "code",
   "execution_count": null,
   "metadata": {},
   "outputs": [],
   "source": []
  },
  {
   "cell_type": "code",
   "execution_count": null,
   "metadata": {},
   "outputs": [],
   "source": []
  },
  {
   "cell_type": "code",
   "execution_count": null,
   "metadata": {},
   "outputs": [],
   "source": []
  },
  {
   "cell_type": "code",
   "execution_count": null,
   "metadata": {},
   "outputs": [],
   "source": []
  },
  {
   "cell_type": "code",
   "execution_count": null,
   "metadata": {},
   "outputs": [],
   "source": []
  },
  {
   "cell_type": "code",
   "execution_count": null,
   "metadata": {},
   "outputs": [],
   "source": []
  },
  {
   "cell_type": "code",
   "execution_count": null,
   "metadata": {},
   "outputs": [],
   "source": []
  }
 ],
 "metadata": {
  "kernelspec": {
   "display_name": "Python 3",
   "language": "python",
   "name": "python3"
  },
  "language_info": {
   "codemirror_mode": {
    "name": "ipython",
    "version": 3
   },
   "file_extension": ".py",
   "mimetype": "text/x-python",
   "name": "python",
   "nbconvert_exporter": "python",
   "pygments_lexer": "ipython3",
   "version": "3.7.4"
  }
 },
 "nbformat": 4,
 "nbformat_minor": 4
}
