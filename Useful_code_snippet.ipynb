{
 "cells": [
  {
   "cell_type": "markdown",
   "metadata": {},
   "source": [
    "### Scrapping"
   ]
  },
  {
   "cell_type": "code",
   "execution_count": 1,
   "metadata": {},
   "outputs": [
    {
     "name": "stdout",
     "output_type": "stream",
     "text": [
      "/wiki/Software_license 3.8.3\n"
     ]
    }
   ],
   "source": [
    "# Source: https://github.com/gto76/python-cheatsheet#scraping\n",
    "# $ pip3 install requests beautifulsoup4\n",
    "import requests, sys\n",
    "from bs4 import BeautifulSoup\n",
    "URL = 'https://en.wikipedia.org/wiki/Python_(programming_language)'\n",
    "try:\n",
    "    html  = requests.get(URL).text\n",
    "    doc   = BeautifulSoup(html, 'html.parser')\n",
    "    table = doc.find('table', class_='infobox vevent')\n",
    "    rows  = table.find_all('tr')\n",
    "    link  = rows[11].find('a')['href']\n",
    "    ver   = rows[6].find('div').text.split()[0]\n",
    "    url_i = rows[0].find('img')['src']\n",
    "    image = requests.get(f'https:{url_i}').content\n",
    "    with open('test.png', 'wb') as file:\n",
    "        file.write(image)\n",
    "    print(link, ver)\n",
    "except requests.exceptions.ConnectionError:\n",
    "    print(\"You've got problems with connection.\", file=sys.stderr)"
   ]
  },
  {
   "cell_type": "markdown",
   "metadata": {},
   "source": [
    "### REGEX\n",
    "\n",
    "    Search() and match() return None if they can't find a match.\n",
    "    Argument 'flags=re.IGNORECASE' can be used with all functions.\n",
    "    Argument 'flags=re.MULTILINE' makes '^' and '$' match the start/end of each line.\n",
    "    Argument 'flags=re.DOTALL' makes dot also accept the '\\n'.\n",
    "    Use r'\\1' or '\\\\1' for backreference.\n",
    "    Add '?' after an operator to make it non-greedy.\n"
   ]
  },
  {
   "cell_type": "code",
   "execution_count": 2,
   "metadata": {},
   "outputs": [
    {
     "ename": "SyntaxError",
     "evalue": "invalid syntax (<ipython-input-2-b83c5d0d0423>, line 4)",
     "output_type": "error",
     "traceback": [
      "\u001b[1;36m  File \u001b[1;32m\"<ipython-input-2-b83c5d0d0423>\"\u001b[1;36m, line \u001b[1;32m4\u001b[0m\n\u001b[1;33m    <str>   = re.sub(<regex>, new, text, count=0)  # Substitutes all occurrences with 'new'.\u001b[0m\n\u001b[1;37m    ^\u001b[0m\n\u001b[1;31mSyntaxError\u001b[0m\u001b[1;31m:\u001b[0m invalid syntax\n"
     ]
    }
   ],
   "source": [
    "# https://github.com/gto76/python-cheatsheet#regex\n",
    "\n",
    "import re\n",
    "<str>   = re.sub(<regex>, new, text, count=0)  # Substitutes all occurrences with 'new'.\n",
    "<list>  = re.findall(<regex>, text)            # Returns all occurrences as strings.\n",
    "<list>  = re.split(<regex>, text, maxsplit=0)  # Use brackets in regex to include the matches.\n",
    "<Match> = re.search(<regex>, text)             # Searches for first occurrence of the pattern.\n",
    "<Match> = re.match(<regex>, text)              # Searches only at the beginning of the text.\n",
    "<iter>  = re.finditer(<regex>, text)           # Returns all occurrences as match objects."
   ]
  },
  {
   "cell_type": "code",
   "execution_count": null,
   "metadata": {},
   "outputs": [],
   "source": []
  }
 ],
 "metadata": {
  "kernelspec": {
   "display_name": "Python 3",
   "language": "python",
   "name": "python3"
  },
  "language_info": {
   "codemirror_mode": {
    "name": "ipython",
    "version": 3
   },
   "file_extension": ".py",
   "mimetype": "text/x-python",
   "name": "python",
   "nbconvert_exporter": "python",
   "pygments_lexer": "ipython3",
   "version": "3.7.4"
  }
 },
 "nbformat": 4,
 "nbformat_minor": 2
}
